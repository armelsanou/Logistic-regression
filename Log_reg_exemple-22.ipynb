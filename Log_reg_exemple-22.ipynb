{
 "cells": [
  {
   "cell_type": "markdown",
   "id": "f2f5a0bc-2f32-402e-91a8-0ada1eb34cc8",
   "metadata": {},
   "source": [
    "## Régression Logistique\n",
    "___"
   ]
  },
  {
   "cell_type": "markdown",
   "id": "b849e417-55dd-429a-950a-adb67ccbadac",
   "metadata": {},
   "source": [
    "### Application de la régression logistique sur les données  Breast Cancer\n",
    "___"
   ]
  },
  {
   "cell_type": "code",
   "execution_count": 234,
   "id": "6b7abd47",
   "metadata": {},
   "outputs": [
    {
     "name": "stdout",
     "output_type": "stream",
     "text": [
      "<class 'pandas.core.frame.DataFrame'>\n",
      "RangeIndex: 699 entries, 0 to 698\n",
      "Data columns (total 10 columns):\n",
      " #   Column      Non-Null Count  Dtype \n",
      "---  ------      --------------  ----- \n",
      " 0   clump       699 non-null    int64 \n",
      " 1   ucellsize   699 non-null    int64 \n",
      " 2   ucellshape  699 non-null    int64 \n",
      " 3   mgadhesion  699 non-null    int64 \n",
      " 4   sepics      699 non-null    int64 \n",
      " 5   bnuclei     699 non-null    int64 \n",
      " 6   bchromatin  699 non-null    int64 \n",
      " 7   normnucl    699 non-null    int64 \n",
      " 8   mitoses     699 non-null    int64 \n",
      " 9   classe      699 non-null    object\n",
      "dtypes: int64(9), object(1)\n",
      "memory usage: 54.7+ KB\n",
      "None\n"
     ]
    }
   ],
   "source": [
    "#changement de répertoire \n",
    "import os \n",
    "os.chdir(\"/Users/lazharlabiod/Documents/MLSD-Borelli/Master_M1_M2/Machine_Learning_22_23/SL_2/Reg_logistic\") \n",
    "#chargement des données d'apprentissage \n",
    "import pandas \n",
    "\n",
    "#importation des données\n",
    "import pandas\n",
    "DTrain = pandas.read_excel(\"breast.xlsx\")\n",
    "#D = pandas.read_excel(\"breast.xlsx\")\n",
    "#info - var. toutes comprises entre [0,10]\n",
    "#classe - binaire {begnin, malignant} \n",
    "#info \n",
    "print(DTrain.info())"
   ]
  },
  {
   "cell_type": "code",
   "execution_count": 235,
   "id": "88e49fb9",
   "metadata": {},
   "outputs": [
    {
     "data": {
      "text/html": [
       "<div>\n",
       "<style scoped>\n",
       "    .dataframe tbody tr th:only-of-type {\n",
       "        vertical-align: middle;\n",
       "    }\n",
       "\n",
       "    .dataframe tbody tr th {\n",
       "        vertical-align: top;\n",
       "    }\n",
       "\n",
       "    .dataframe thead th {\n",
       "        text-align: right;\n",
       "    }\n",
       "</style>\n",
       "<table border=\"1\" class=\"dataframe\">\n",
       "  <thead>\n",
       "    <tr style=\"text-align: right;\">\n",
       "      <th></th>\n",
       "      <th>clump</th>\n",
       "      <th>ucellsize</th>\n",
       "      <th>ucellshape</th>\n",
       "      <th>mgadhesion</th>\n",
       "      <th>sepics</th>\n",
       "      <th>bnuclei</th>\n",
       "      <th>bchromatin</th>\n",
       "      <th>normnucl</th>\n",
       "      <th>mitoses</th>\n",
       "      <th>classe</th>\n",
       "    </tr>\n",
       "  </thead>\n",
       "  <tbody>\n",
       "    <tr>\n",
       "      <th>0</th>\n",
       "      <td>10</td>\n",
       "      <td>6</td>\n",
       "      <td>6</td>\n",
       "      <td>2</td>\n",
       "      <td>4</td>\n",
       "      <td>10</td>\n",
       "      <td>9</td>\n",
       "      <td>7</td>\n",
       "      <td>1</td>\n",
       "      <td>1</td>\n",
       "    </tr>\n",
       "    <tr>\n",
       "      <th>1</th>\n",
       "      <td>4</td>\n",
       "      <td>2</td>\n",
       "      <td>2</td>\n",
       "      <td>1</td>\n",
       "      <td>2</td>\n",
       "      <td>1</td>\n",
       "      <td>2</td>\n",
       "      <td>1</td>\n",
       "      <td>1</td>\n",
       "      <td>0</td>\n",
       "    </tr>\n",
       "    <tr>\n",
       "      <th>2</th>\n",
       "      <td>1</td>\n",
       "      <td>1</td>\n",
       "      <td>1</td>\n",
       "      <td>1</td>\n",
       "      <td>2</td>\n",
       "      <td>1</td>\n",
       "      <td>2</td>\n",
       "      <td>1</td>\n",
       "      <td>1</td>\n",
       "      <td>0</td>\n",
       "    </tr>\n",
       "    <tr>\n",
       "      <th>3</th>\n",
       "      <td>2</td>\n",
       "      <td>1</td>\n",
       "      <td>1</td>\n",
       "      <td>1</td>\n",
       "      <td>2</td>\n",
       "      <td>1</td>\n",
       "      <td>2</td>\n",
       "      <td>1</td>\n",
       "      <td>1</td>\n",
       "      <td>0</td>\n",
       "    </tr>\n",
       "    <tr>\n",
       "      <th>4</th>\n",
       "      <td>4</td>\n",
       "      <td>1</td>\n",
       "      <td>1</td>\n",
       "      <td>1</td>\n",
       "      <td>2</td>\n",
       "      <td>1</td>\n",
       "      <td>2</td>\n",
       "      <td>1</td>\n",
       "      <td>1</td>\n",
       "      <td>0</td>\n",
       "    </tr>\n",
       "  </tbody>\n",
       "</table>\n",
       "</div>"
      ],
      "text/plain": [
       "   clump  ucellsize  ucellshape  mgadhesion  sepics  bnuclei  bchromatin  \\\n",
       "0     10          6           6           2       4       10           9   \n",
       "1      4          2           2           1       2        1           2   \n",
       "2      1          1           1           1       2        1           2   \n",
       "3      2          1           1           1       2        1           2   \n",
       "4      4          1           1           1       2        1           2   \n",
       "\n",
       "   normnucl  mitoses  classe  \n",
       "0         7        1       1  \n",
       "1         1        1       0  \n",
       "2         1        1       0  \n",
       "3         1        1       0  \n",
       "4         1        1       0  "
      ]
     },
     "execution_count": 235,
     "metadata": {},
     "output_type": "execute_result"
    }
   ],
   "source": [
    "DTrain['classe'] = DTrain['classe'].apply(lambda x: 1 if x == \"malignant\" else 0)\n",
    "DTrain.head()"
   ]
  },
  {
   "cell_type": "code",
   "execution_count": 236,
   "id": "87864487",
   "metadata": {},
   "outputs": [
    {
     "name": "stdout",
     "output_type": "stream",
     "text": [
      "0    458\n",
      "1    241\n",
      "Name: classe, dtype: int64\n"
     ]
    }
   ],
   "source": [
    "#y (class) est la dernière colonne \n",
    "y = DTrain.iloc[:,-1] \n",
    "#X (les autres) sont les variables qui précèdent la dernière \n",
    "x = DTrain.iloc[:,:-1] \n",
    "#comptage des modalités de y \n",
    "print(y.value_counts())"
   ]
  },
  {
   "cell_type": "code",
   "execution_count": 166,
   "id": "afd7d7d7-6634-44a0-9856-08d8d36431a2",
   "metadata": {},
   "outputs": [
    {
     "name": "stdout",
     "output_type": "stream",
     "text": [
      "0    391\n",
      "1    209\n",
      "Name: classe, dtype: int64\n",
      "<class 'pandas.core.frame.DataFrame'>\n",
      "RangeIndex: 600 entries, 0 to 599\n",
      "Data columns (total 9 columns):\n",
      " #   Column      Non-Null Count  Dtype\n",
      "---  ------      --------------  -----\n",
      " 0   clump       600 non-null    int64\n",
      " 1   ucellsize   600 non-null    int64\n",
      " 2   ucellshape  600 non-null    int64\n",
      " 3   mgadhesion  600 non-null    int64\n",
      " 4   sepics      600 non-null    int64\n",
      " 5   bnuclei     600 non-null    int64\n",
      " 6   bchromatin  600 non-null    int64\n",
      " 7   normnucl    600 non-null    int64\n",
      " 8   mitoses     600 non-null    int64\n",
      "dtypes: int64(9)\n",
      "memory usage: 42.3 KB\n",
      "None\n"
     ]
    }
   ],
   "source": [
    "#y (class) est la dernière colonne \n",
    "yTrain = y.iloc[0:600,] \n",
    "#X (les autres) sont les variables qui précèdent la dernière \n",
    "xTrain = x.iloc[0:600,] \n",
    "#comptage des modalités de y \n",
    "print(yTrain.value_counts())\n",
    "print(xTrain.info())"
   ]
  },
  {
   "cell_type": "code",
   "execution_count": 237,
   "id": "2e90bc39",
   "metadata": {},
   "outputs": [
    {
     "name": "stdout",
     "output_type": "stream",
     "text": [
      "0    66\n",
      "1    32\n",
      "Name: classe, dtype: int64\n"
     ]
    }
   ],
   "source": [
    "#Données test \n",
    "yTest = y.iloc[601:699,] \n",
    "\n",
    "xTest = x.iloc[601:699,] \n",
    "#comptage des modalités de yTest \n",
    "print(yTest.value_counts())"
   ]
  },
  {
   "cell_type": "markdown",
   "id": "efbff3fd-9320-436a-a71d-f4b17dd11115",
   "metadata": {},
   "source": [
    "## Régression logistique avec StatModel (approche statistique)\n",
    "___"
   ]
  },
  {
   "cell_type": "code",
   "execution_count": 238,
   "id": "0908cdf9-e9f1-4d7f-bc1a-82de965f43d7",
   "metadata": {},
   "outputs": [
    {
     "name": "stdout",
     "output_type": "stream",
     "text": [
      "0.12.2\n"
     ]
    }
   ],
   "source": [
    "#importation de la librairie de calcul \n",
    "import statsmodels as sm \n",
    "#vérification de version \n",
    "print(sm.__version__)"
   ]
  },
  {
   "cell_type": "code",
   "execution_count": 239,
   "id": "fe7b3678-db74-4b52-813a-dfb7a5b6c96d",
   "metadata": {},
   "outputs": [
    {
     "name": "stdout",
     "output_type": "stream",
     "text": [
      "<class 'pandas.core.frame.DataFrame'>\n",
      "RangeIndex: 600 entries, 0 to 599\n",
      "Data columns (total 10 columns):\n",
      " #   Column      Non-Null Count  Dtype  \n",
      "---  ------      --------------  -----  \n",
      " 0   const       600 non-null    float64\n",
      " 1   clump       600 non-null    int64  \n",
      " 2   ucellsize   600 non-null    int64  \n",
      " 3   ucellshape  600 non-null    int64  \n",
      " 4   mgadhesion  600 non-null    int64  \n",
      " 5   sepics      600 non-null    int64  \n",
      " 6   bnuclei     600 non-null    int64  \n",
      " 7   bchromatin  600 non-null    int64  \n",
      " 8   normnucl    600 non-null    int64  \n",
      " 9   mitoses     600 non-null    int64  \n",
      "dtypes: float64(1), int64(9)\n",
      "memory usage: 47.0 KB\n",
      "None\n"
     ]
    },
    {
     "name": "stderr",
     "output_type": "stream",
     "text": [
      "/Users/lazharlabiod/opt/anaconda3/lib/python3.9/site-packages/statsmodels/tsa/tsatools.py:142: FutureWarning: In a future version of pandas all arguments of concat except for the argument 'objs' will be keyword-only\n",
      "  x = pd.concat(x[::order], 1)\n"
     ]
    }
   ],
   "source": [
    "#importation de l'outil \n",
    "from statsmodels.tools import add_constant \n",
    "#données X avec la constante \n",
    "XTrainBis = sm.tools.add_constant(xTrain) \n",
    "#vérifier la structure \n",
    "print(XTrainBis.info())"
   ]
  },
  {
   "cell_type": "code",
   "execution_count": 240,
   "id": "f78295cf-6d04-444b-b233-8f4f31855770",
   "metadata": {},
   "outputs": [
    {
     "name": "stdout",
     "output_type": "stream",
     "text": [
      "   const  clump  ucellsize  ucellshape  mgadhesion  sepics  bnuclei  \\\n",
      "0    1.0     10          6           6           2       4       10   \n",
      "1    1.0      4          2           2           1       2        1   \n",
      "2    1.0      1          1           1           1       2        1   \n",
      "3    1.0      2          1           1           1       2        1   \n",
      "4    1.0      4          1           1           1       2        1   \n",
      "\n",
      "   bchromatin  normnucl  mitoses  \n",
      "0           9         7        1  \n",
      "1           2         1        1  \n",
      "2           2         1        1  \n",
      "3           2         1        1  \n",
      "4           2         1        1  \n"
     ]
    }
   ],
   "source": [
    "#visualisation des premières lignes de la structure \n",
    "#premières lignes \n",
    "print(XTrainBis.head())"
   ]
  },
  {
   "cell_type": "code",
   "execution_count": 241,
   "id": "2a64ef85-93f2-40e7-bceb-6a9d54ea476a",
   "metadata": {},
   "outputs": [
    {
     "name": "stdout",
     "output_type": "stream",
     "text": [
      "Optimization terminated successfully.\n",
      "         Current function value: 0.086871\n",
      "         Iterations 9\n"
     ]
    }
   ],
   "source": [
    "#importation de la classe de calcul \n",
    "from statsmodels.api import Logit \n",
    "#régression logistique - on passe la cible et les explicatives \n",
    "lr = Logit(endog=yTrain,exog=XTrainBis) \n",
    "#lancer les calculs \n",
    "#algorithme de Newton-Raphson utilisé par défaut #https://www.statsmodels.org/stable/generated/statsmodels.discrete.discrete_model.Logit.fit.html \n",
    "res = lr.fit()"
   ]
  },
  {
   "cell_type": "code",
   "execution_count": 242,
   "id": "4cea9d57-ebcf-4c65-a4ea-343772910a6c",
   "metadata": {},
   "outputs": [
    {
     "name": "stdout",
     "output_type": "stream",
     "text": [
      "['__class__', '__delattr__', '__dict__', '__dir__', '__doc__', '__eq__', '__format__', '__ge__', '__getattribute__', '__getstate__', '__gt__', '__hash__', '__init__', '__init_subclass__', '__le__', '__lt__', '__module__', '__ne__', '__new__', '__reduce__', '__reduce_ex__', '__repr__', '__setattr__', '__sizeof__', '__str__', '__subclasshook__', '__weakref__', '_cache', '_data_attr', '_data_in_cache', '_get_endog_name', '_get_robustcov_results', '_use_t', 'aic', 'bic', 'bse', 'conf_int', 'cov_kwds', 'cov_params', 'cov_type', 'df_model', 'df_resid', 'f_test', 'fittedvalues', 'get_margeff', 'initialize', 'k_constant', 'llf', 'llnull', 'llr', 'llr_pvalue', 'load', 'mle_retvals', 'mle_settings', 'model', 'nobs', 'normalized_cov_params', 'params', 'pred_table', 'predict', 'prsquared', 'pvalues', 'remove_data', 'resid_dev', 'resid_generalized', 'resid_pearson', 'resid_response', 'save', 'scale', 'set_null_options', 'summary', 'summary2', 't_test', 't_test_pairwise', 'tvalues', 'use_t', 'wald_test', 'wald_test_terms']\n"
     ]
    }
   ],
   "source": [
    "#propriétés de l'objet résultat #https://www.statsmodels.org/stable/generated/statsmodels.discrete.discrete_model.LogitResults.html \n",
    "print(dir(res))"
   ]
  },
  {
   "cell_type": "code",
   "execution_count": 243,
   "id": "ccc8c3a0-50da-4ecb-9d46-62622de9b43b",
   "metadata": {},
   "outputs": [
    {
     "name": "stdout",
     "output_type": "stream",
     "text": [
      "                           Logit Regression Results                           \n",
      "==============================================================================\n",
      "Dep. Variable:                 classe   No. Observations:                  600\n",
      "Model:                          Logit   Df Residuals:                      590\n",
      "Method:                           MLE   Df Model:                            9\n",
      "Date:                Wed, 26 Oct 2022   Pseudo R-squ.:                  0.8656\n",
      "Time:                        07:39:06   Log-Likelihood:                -52.123\n",
      "converged:                       True   LL-Null:                       -387.85\n",
      "Covariance Type:            nonrobust   LLR p-value:                9.492e-139\n",
      "==============================================================================\n",
      "                 coef    std err          z      P>|z|      [0.025      0.975]\n",
      "------------------------------------------------------------------------------\n",
      "const         -9.4137      1.075     -8.757      0.000     -11.521      -7.307\n",
      "clump          0.5099      0.137      3.710      0.000       0.241       0.779\n",
      "ucellsize     -0.0554      0.192     -0.288      0.773      -0.432       0.321\n",
      "ucellshape     0.3258      0.217      1.499      0.134      -0.100       0.752\n",
      "mgadhesion     0.2322      0.117      1.979      0.048       0.002       0.462\n",
      "sepics         0.0268      0.171      0.156      0.876      -0.309       0.362\n",
      "bnuclei        0.4660      0.099      4.713      0.000       0.272       0.660\n",
      "bchromatin     0.3835      0.160      2.401      0.016       0.070       0.697\n",
      "normnucl       0.2005      0.114      1.762      0.078      -0.022       0.424\n",
      "mitoses        0.5418      0.298      1.817      0.069      -0.043       1.126\n",
      "==============================================================================\n"
     ]
    }
   ],
   "source": [
    "#résumé des résultats \n",
    "print(res.summary())"
   ]
  },
  {
   "cell_type": "code",
   "execution_count": 244,
   "id": "4f5e4486-cb6f-448a-8099-f5c37077a01b",
   "metadata": {},
   "outputs": [
    {
     "name": "stdout",
     "output_type": "stream",
     "text": [
      "                    0         1\n",
      "const      -11.182010 -7.645487\n",
      "clump        0.283851  0.735951\n",
      "ucellsize   -0.371596  0.260819\n",
      "ucellshape  -0.031750  0.683448\n",
      "mgadhesion   0.039167  0.425315\n",
      "sepics      -0.254910  0.308423\n",
      "bnuclei      0.303360  0.628593\n",
      "bchromatin   0.120762  0.646288\n",
      "normnucl     0.013386  0.387708\n",
      "mitoses      0.051283  1.032251\n"
     ]
    }
   ],
   "source": [
    "#intervalle de confiance des coefficients à 90% \n",
    "print(res.conf_int(alpha=0.1))"
   ]
  },
  {
   "cell_type": "code",
   "execution_count": 245,
   "id": "ede90cec-4a2b-442f-820b-0a78e494ade7",
   "metadata": {},
   "outputs": [
    {
     "name": "stdout",
     "output_type": "stream",
     "text": [
      "0      7.936612\n",
      "1     -4.572131\n",
      "2     -6.372293\n",
      "3     -5.862392\n",
      "4     -4.842591\n",
      "         ...   \n",
      "595   -4.716216\n",
      "596   -6.755818\n",
      "597   -4.332690\n",
      "598   -5.988767\n",
      "599    7.564412\n",
      "Length: 600, dtype: float64\n"
     ]
    }
   ],
   "source": [
    "#valeurs estimées par la régression en resubstitution \n",
    "print(res.fittedvalues)"
   ]
  },
  {
   "cell_type": "code",
   "execution_count": 246,
   "id": "cee12ad2-b133-416c-9bae-a2d3f1fde1bd",
   "metadata": {},
   "outputs": [
    {
     "name": "stdout",
     "output_type": "stream",
     "text": [
      "const        -9.413748\n",
      "clump         0.509901\n",
      "ucellsize    -0.055388\n",
      "ucellshape    0.325849\n",
      "mgadhesion    0.232241\n",
      "sepics        0.026756\n",
      "bnuclei       0.465976\n",
      "bchromatin    0.383525\n",
      "normnucl      0.200547\n",
      "mitoses       0.541767\n",
      "dtype: float64\n"
     ]
    }
   ],
   "source": [
    "#Voici les coefficients estimés \n",
    "print(res.params)"
   ]
  },
  {
   "cell_type": "code",
   "execution_count": 247,
   "id": "dc76ec1d-9a04-4630-9b00-e9ac80a2e154",
   "metadata": {},
   "outputs": [
    {
     "name": "stdout",
     "output_type": "stream",
     "text": [
      "const          1.0\n",
      "clump         10.0\n",
      "ucellsize      6.0\n",
      "ucellshape     6.0\n",
      "mgadhesion     2.0\n",
      "sepics         4.0\n",
      "bnuclei       10.0\n",
      "bchromatin     9.0\n",
      "normnucl       7.0\n",
      "mitoses        1.0\n",
      "Name: 0, dtype: float64\n"
     ]
    }
   ],
   "source": [
    "#voici la description du premier individu \n",
    "print(XTrainBis.iloc[0,:])"
   ]
  },
  {
   "cell_type": "code",
   "execution_count": 248,
   "id": "88a767b3-f12f-4d3b-8b5e-9135830c2112",
   "metadata": {},
   "outputs": [
    {
     "name": "stdout",
     "output_type": "stream",
     "text": [
      "7.93661202336563\n"
     ]
    }
   ],
   "source": [
    "#et si on fait le produit scalaire – valeur du LOGIT pour l’individu n°0 \n",
    "import numpy \n",
    "print(numpy.sum(res.params*XTrainBis.iloc[0,:]))"
   ]
  },
  {
   "cell_type": "code",
   "execution_count": 249,
   "id": "c3d9ec7b-993f-4d29-8da4-05866ee59ebf",
   "metadata": {},
   "outputs": [
    {
     "name": "stdout",
     "output_type": "stream",
     "text": [
      "[1 0 0 0 0 0 0 0 0 0 0 0 0 0 0 0 0 0 0 1 0 0 0 1 0 0 1 0 0 1 0 0 1 0 1 0 0\n",
      " 0 0 0 0 1 1 0 0 0 0 0 0 0 0 1 0 0 1 0 0 1 0 0 0 0 0 1 0 1 1 1 0 1 1 0 1 1\n",
      " 1 0 0 1 0 0 1 1 0 0 0 0 0 0 1 0 1 1 1 0 1 1 0 1 1 0 1 1 1 0 0 0 0 1 1 1 0\n",
      " 1 0 0 1 1 1 0 0 1 1 0 1 1 0 0 1 1 1 0 0 0 0 1 1 0 0 0 0 1 0 0 1 0 1 1 0 0\n",
      " 0 1 0 0 0 0 1 1 0 0 0 0 0 0 0 0 1 0 1 0 0 1 0 0 1 0 0 0 1 0 1 0 1 1 1 0 0\n",
      " 0 0 0 1 0 1 0 0 0 0 1 0 0 1 0 1 1 0 0 0 0 0 0 0 0 0 1 0 0 0 1 0 0 0 0 0 1\n",
      " 0 0 1 0 1 0 0 1 1 0 1 1 0 0 1 0 1 0 0 0 0 0 0 0 0 0 0 1 0 0 0 1 1 0 0 0 0\n",
      " 1 1 0 1 0 0 0 1 1 0 0 0 1 0 0 0 1 0 1 0 0 0 0 1 0 0 0 0 1 0 1 0 0 0 0 0 0\n",
      " 0 1 0 0 1 1 1 0 0 1 0 1 1 0 1 1 1 1 0 0 0 1 0 0 1 0 0 1 1 0 0 0 1 0 1 1 1\n",
      " 0 0 0 0 1 1 0 0 0 0 0 0 0 1 0 0 0 0 1 1 1 0 0 0 0 0 1 0 1 0 0 0 1 0 0 0 1\n",
      " 0 0 0 1 0 1 1 1 0 0 1 1 0 0 1 0 0 1 0 1 0 0 0 1 0 0 0 0 0 1 0 1 1 0 0 0 1\n",
      " 1 1 0 1 1 1 1 0 0 1 0 0 0 1 0 0 1 0 1 0 1 0 0 1 0 1 0 0 0 0 0 0 0 1 1 0 0\n",
      " 0 0 0 1 0 0 0 0 0 1 0 1 0 0 0 0 1 0 0 1 1 1 0 1 0 1 0 0 0 0 0 1 0 1 0 0 0\n",
      " 0 1 1 1 1 0 0 0 1 0 0 0 0 0 1 0 0 0 1 1 1 0 0 0 0 1 0 0 0 0 1 0 1 0 0 0 0\n",
      " 0 0 0 0 0 1 1 0 0 0 1 0 1 0 1 1 0 1 1 0 0 0 0 1 0 0 0 0 1 0 0 1 1 1 0 0 0\n",
      " 0 0 0 0 0 1 1 1 1 0 0 1 1 0 0 0 1 0 1 0 0 0 0 0 0 0 1 0 0 1 0 1 1 1 0 1 0\n",
      " 0 1 1 0 0 0 0 1]\n"
     ]
    }
   ],
   "source": [
    "#la règle d'affectation consiste à confronter le LOGIT à la valeur seuil 0 \n",
    "predResub = numpy.where(res.fittedvalues > 0, 1, 0) \n",
    "print(predResub)"
   ]
  },
  {
   "cell_type": "code",
   "execution_count": 250,
   "id": "2a6e128f-aa5a-41b7-af37-1fdd3e2f3e4d",
   "metadata": {},
   "outputs": [
    {
     "name": "stdout",
     "output_type": "stream",
     "text": [
      "col_0     0    1\n",
      "classe          \n",
      "0       381   10\n",
      "1        10  199\n"
     ]
    }
   ],
   "source": [
    "#on peut en déduire la matrice de confusion \n",
    "print(pandas.crosstab(yTrain,predResub))"
   ]
  },
  {
   "cell_type": "code",
   "execution_count": 251,
   "id": "dd1f6602-3f96-4901-bb3b-fd7f00c93fd8",
   "metadata": {},
   "outputs": [
    {
     "name": "stdout",
     "output_type": "stream",
     "text": [
      "[[381.  10.]\n",
      " [ 10. 199.]]\n"
     ]
    }
   ],
   "source": [
    "#matrice de confusion en resubstitution directement fournie par l'outil \n",
    "print(res.pred_table())"
   ]
  },
  {
   "cell_type": "code",
   "execution_count": 252,
   "id": "fe450458-1601-498b-b771-978ff3ef1aee",
   "metadata": {},
   "outputs": [
    {
     "name": "stdout",
     "output_type": "stream",
     "text": [
      "Log-vraisemblance du modèle : -52.1227\n",
      "Log-vraisemblance du null modèle : -387.8453\n"
     ]
    }
   ],
   "source": [
    "#accès à la log-vraisemblance du modèle \n",
    "print(\"Log-vraisemblance du modèle : %.4f\" % (res.llf)) \n",
    "#log-vraisemblance du null modèle \n",
    "print(\"Log-vraisemblance du null modèle : %.4f\" % (res.llnull))"
   ]
  },
  {
   "cell_type": "code",
   "execution_count": 253,
   "id": "4a587a25-2502-4307-adf2-6f1a6ecf317b",
   "metadata": {},
   "outputs": [
    {
     "name": "stdout",
     "output_type": "stream",
     "text": [
      "0.8656096526409542\n"
     ]
    }
   ],
   "source": [
    "#R2 de McFadden \n",
    "R2MF = 1 - res.llf / res.llnull \n",
    "print(R2MF)"
   ]
  },
  {
   "cell_type": "code",
   "execution_count": 254,
   "id": "81fe35ae-d422-4ca5-8370-d78c2efd01bc",
   "metadata": {},
   "outputs": [
    {
     "name": "stdout",
     "output_type": "stream",
     "text": [
      "0.8656096526409542\n"
     ]
    }
   ],
   "source": [
    "#qui est founi directement par l'outil \n",
    "print(res.prsquared)"
   ]
  },
  {
   "cell_type": "code",
   "execution_count": 255,
   "id": "6f52d0b9-0553-470f-ad37-2729ffd95607",
   "metadata": {},
   "outputs": [
    {
     "name": "stdout",
     "output_type": "stream",
     "text": [
      "R2 de Cox - Snell : 0.6173\n"
     ]
    }
   ],
   "source": [
    "#exponenielle de LL_null \n",
    "L0 = numpy.exp(res.llnull) \n",
    "#exponentielle de LL_modèle \n",
    "La = numpy.exp(res.llf) \n",
    "#taille de l'échantillon \n",
    "n = DTrain.shape[0] \n",
    "#R2 de Cox et Snell \n",
    "R2CS = 1.0 - (L0 / La)**(2.0/n) \n",
    "print(\"R2 de Cox - Snell : %.4f\" % (R2CS))"
   ]
  },
  {
   "cell_type": "code",
   "execution_count": 256,
   "id": "28b60913-43b0-44a6-90ae-6dde3a9c12f7",
   "metadata": {},
   "outputs": [
    {
     "name": "stdout",
     "output_type": "stream",
     "text": [
      "[0.99964271 0.01023018 0.00170533 0.00283636 0.00782488 0.00116273\n",
      " 0.00170533 0.01296195 0.00471401 0.00686545]\n"
     ]
    }
   ],
   "source": [
    "#scores fournis par la régression \n",
    "scores = lr.cdf(res.fittedvalues) \n",
    "print(scores[:10])"
   ]
  },
  {
   "cell_type": "code",
   "execution_count": 257,
   "id": "d5b26d42-21a7-463d-8c61-dbb7d46d46d9",
   "metadata": {},
   "outputs": [
    {
     "name": "stdout",
     "output_type": "stream",
     "text": [
      "Score du 1er individu 0.9996\n"
     ]
    }
   ],
   "source": [
    "#vérifions la première valeur (individu n°0) \n",
    "s0 = 1.0/(1.0 + numpy.exp(-1.0 * res.fittedvalues[0])) \n",
    "print(\"Score du 1er individu %.4f\" % (s0))"
   ]
  },
  {
   "cell_type": "code",
   "execution_count": 258,
   "id": "10336a99-c4d5-4a93-aff2-129e3c916e5a",
   "metadata": {},
   "outputs": [
    {
     "name": "stdout",
     "output_type": "stream",
     "text": [
      "     y     score                intv\n",
      "0    1  0.999643          (0.8, 1.0]\n",
      "1    0  0.010230  (-0.000867, 0.201]\n",
      "2    0  0.001705  (-0.000867, 0.201]\n",
      "3    0  0.002836  (-0.000867, 0.201]\n",
      "4    0  0.007825  (-0.000867, 0.201]\n",
      "..  ..       ...                 ...\n",
      "595  0  0.008870  (-0.000867, 0.201]\n",
      "596  0  0.001163  (-0.000867, 0.201]\n",
      "597  0  0.012962  (-0.000867, 0.201]\n",
      "598  0  0.002500  (-0.000867, 0.201]\n",
      "599  1  0.999482          (0.8, 1.0]\n",
      "\n",
      "[600 rows x 3 columns]\n"
     ]
    }
   ],
   "source": [
    "#data frame temporaire avec y et les scores \n",
    "df = pandas.DataFrame({\"y\":yTrain,\"score\":scores}) \n",
    "#5 intervalles de largeur égales \n",
    "intv = pandas.cut(df.score,bins=5,include_lowest=True) \n",
    "#intégrées dans le df \n",
    "df['intv'] = intv \n",
    "print(df)"
   ]
  },
  {
   "cell_type": "code",
   "execution_count": 260,
   "id": "8b6eaef3-99b3-4109-b012-b36d4e957d7d",
   "metadata": {},
   "outputs": [
    {
     "name": "stdout",
     "output_type": "stream",
     "text": [
      "Deviance du modèle : 104.2453 \n",
      "Deviance du modèle : 775.6906 \n",
      "Stat. du rapport de vraisemblance : 671.4452 \n"
     ]
    }
   ],
   "source": [
    "#déviance du modèle \n",
    "dev_modele = (-2) * res.llf \n",
    "print(\"Deviance du modèle : %.4f \" % (dev_modele)) \n",
    "#déviance du modèle trivial \n",
    "dev_null = (-2) * res.llnull \n",
    "print(\"Deviance du modèle : %.4f \" % (dev_null)) \n",
    "#statistique du rapport de vraisemblance \n",
    "LR_stat = dev_null - dev_modele \n",
    "print(\"Stat. du rapport de vraisemblance : %.4f \" % (LR_stat))"
   ]
  },
  {
   "cell_type": "code",
   "execution_count": 261,
   "id": "4de12d13-2833-4f4e-9627-ab7011b62cd1",
   "metadata": {},
   "outputs": [
    {
     "name": "stdout",
     "output_type": "stream",
     "text": [
      "Stat. du rapport de vraisemblance via l'objet résultat : 671.4452\n"
     ]
    }
   ],
   "source": [
    "#laquelle était fournie directement par l'objet \n",
    "print(\"Stat. du rapport de vraisemblance via l'objet résultat : %.4f\" % (res.llr))"
   ]
  },
  {
   "cell_type": "code",
   "execution_count": 262,
   "id": "3f44e1d7-24bc-4d0e-b669-c5b0e9a2b1fb",
   "metadata": {},
   "outputs": [
    {
     "name": "stdout",
     "output_type": "stream",
     "text": [
      "9.0\n"
     ]
    }
   ],
   "source": [
    "#degré de liberté du test (nb. de coef. estimés excepté la constante) \n",
    "print(res.df_model)"
   ]
  },
  {
   "cell_type": "code",
   "execution_count": 263,
   "id": "b184cf31-4c31-467b-93dd-ec3086c0e761",
   "metadata": {},
   "outputs": [
    {
     "name": "stdout",
     "output_type": "stream",
     "text": [
      "0.0\n"
     ]
    }
   ],
   "source": [
    "#p-value du test \n",
    "pvalue = 1.0 - scipy.stats.chi2.cdf(res.llr,res.df_model) \n",
    "print(pvalue)"
   ]
  },
  {
   "cell_type": "code",
   "execution_count": 264,
   "id": "c86fad53-96f8-44b8-b90e-66dc4b3bc1fd",
   "metadata": {},
   "outputs": [
    {
     "name": "stdout",
     "output_type": "stream",
     "text": [
      "9.491735547623634e-139\n"
     ]
    }
   ],
   "source": [
    "#laquelle était également fournie par l'objet \n",
    "print(res.llr_pvalue)"
   ]
  },
  {
   "cell_type": "code",
   "execution_count": 265,
   "id": "59ca16a1-3c76-467e-9ced-dcf70ab75bc5",
   "metadata": {},
   "outputs": [
    {
     "name": "stdout",
     "output_type": "stream",
     "text": [
      "AIC du modèle : 124.2453\n",
      "AIC du modèle trivial : 777.6906\n"
     ]
    }
   ],
   "source": [
    "#AIC du modèle \n",
    "print(\"AIC du modèle : %.4f\" % (res.aic)) \n",
    "#AIC du modèle trivial - 1 seul param. estimé, la constante \n",
    "aic_null = (-2) * res.llnull + 2 * (1) \n",
    "print(\"AIC du modèle trivial : %.4f\" % (aic_null))"
   ]
  },
  {
   "cell_type": "code",
   "execution_count": 266,
   "id": "9b888311-bf4f-41ed-a22d-bb0987e6035d",
   "metadata": {},
   "outputs": [
    {
     "name": "stdout",
     "output_type": "stream",
     "text": [
      "BIC du modèle : 168.2146\n",
      "BIC du modèle trivial : 782.2402\n"
     ]
    }
   ],
   "source": [
    "#BIC du modèle \n",
    "print(\"BIC du modèle : %.4f\" % (res.bic)) \n",
    "#BIC du modèle trivial - 1 seul param. estimé, la constante \n",
    "bic_null = (-2) * res.llnull + numpy.log(n) * (1) \n",
    "print(\"BIC du modèle trivial : %.4f\" % (bic_null))"
   ]
  },
  {
   "cell_type": "markdown",
   "id": "df80aee2",
   "metadata": {},
   "source": [
    "### Prédiction et matrice de confusion"
   ]
  },
  {
   "cell_type": "code",
   "execution_count": 267,
   "id": "6234a79e-0968-46f4-a5f8-308021c4d2e9",
   "metadata": {
    "scrolled": true
   },
   "outputs": [
    {
     "name": "stdout",
     "output_type": "stream",
     "text": [
      "<class 'pandas.core.frame.DataFrame'>\n",
      "RangeIndex: 98 entries, 601 to 698\n",
      "Data columns (total 10 columns):\n",
      " #   Column      Non-Null Count  Dtype  \n",
      "---  ------      --------------  -----  \n",
      " 0   const       98 non-null     float64\n",
      " 1   clump       98 non-null     int64  \n",
      " 2   ucellsize   98 non-null     int64  \n",
      " 3   ucellshape  98 non-null     int64  \n",
      " 4   mgadhesion  98 non-null     int64  \n",
      " 5   sepics      98 non-null     int64  \n",
      " 6   bnuclei     98 non-null     int64  \n",
      " 7   bchromatin  98 non-null     int64  \n",
      " 8   normnucl    98 non-null     int64  \n",
      " 9   mitoses     98 non-null     int64  \n",
      "dtypes: float64(1), int64(9)\n",
      "memory usage: 7.8 KB\n",
      "None\n"
     ]
    },
    {
     "name": "stderr",
     "output_type": "stream",
     "text": [
      "/Users/lazharlabiod/opt/anaconda3/lib/python3.9/site-packages/statsmodels/tsa/tsatools.py:142: FutureWarning: In a future version of pandas all arguments of concat except for the argument 'objs' will be keyword-only\n",
      "  x = pd.concat(x[::order], 1)\n"
     ]
    }
   ],
   "source": [
    "# ## Performances prédictives\n",
    "# Utilisation de l'échantillon test pour évaluer le modèle.\n",
    "\n",
    "# ### Prédiction et matrice de confusion\n",
    "\n",
    "# In[56]:\n",
    "\n",
    "\n",
    "#préparation de l'échantillon test\n",
    "#par adjonction de la constante\n",
    "XTest_Bis = add_constant(xTest)\n",
    "print(XTest_Bis.info())"
   ]
  },
  {
   "cell_type": "code",
   "execution_count": 268,
   "id": "abef10b3",
   "metadata": {},
   "outputs": [
    {
     "name": "stdout",
     "output_type": "stream",
     "text": [
      "count    98.000000\n",
      "mean      0.335276\n",
      "std       0.455411\n",
      "min       0.001163\n",
      "25%       0.004545\n",
      "50%       0.017255\n",
      "75%       0.982779\n",
      "max       1.000000\n",
      "dtype: float64\n"
     ]
    }
   ],
   "source": [
    "#calcul de la prédiction sur l'échantillon test\n",
    "predProbaSm = res.predict(XTest_Bis)\n",
    "\n",
    "#à l'évidence nous avons les probabilités d'affectation\n",
    "print(predProbaSm.describe())"
   ]
  },
  {
   "cell_type": "code",
   "execution_count": 269,
   "id": "90079771",
   "metadata": {},
   "outputs": [
    {
     "name": "stdout",
     "output_type": "stream",
     "text": [
      "(array([0, 1]), array([65, 33]))\n"
     ]
    }
   ],
   "source": [
    "#convertir en prédiction brute\n",
    "predSm = numpy.where(predProbaSm > 0.5, 1, 0)\n",
    "print(numpy.unique(predSm,return_counts=True))"
   ]
  },
  {
   "cell_type": "code",
   "execution_count": 270,
   "id": "ffc7933d",
   "metadata": {},
   "outputs": [
    {
     "name": "stdout",
     "output_type": "stream",
     "text": [
      "col_0    0   1\n",
      "classe        \n",
      "0       64   2\n",
      "1        1  31\n"
     ]
    }
   ],
   "source": [
    "#matrice de confusion\n",
    "mcSm = pandas.crosstab(yTest,predSm)\n",
    "print(mcSm)"
   ]
  },
  {
   "cell_type": "code",
   "execution_count": 271,
   "id": "56e4d2a5",
   "metadata": {},
   "outputs": [
    {
     "name": "stdout",
     "output_type": "stream",
     "text": [
      "Taux de reconnaissance : 0.9694\n",
      "Taux d'erreur' : 0.0306\n"
     ]
    }
   ],
   "source": [
    "#transformer en matrice Numpy\n",
    "mcSmNumpy = mcSm.values\n",
    "\n",
    "#taux de reconnaissance\n",
    "accSm = numpy.sum(numpy.diagonal(mcSmNumpy))/numpy.sum(mcSmNumpy)\n",
    "print(\"Taux de reconnaissance : %.4f\" % (accSm))\n",
    "\n",
    "#taux d'erreur\n",
    "errSm = 1.0 - accSm\n",
    "print(\"Taux d'erreur' : %.4f\" % (errSm))"
   ]
  },
  {
   "cell_type": "code",
   "execution_count": 272,
   "id": "a69b5ce7",
   "metadata": {
    "scrolled": true
   },
   "outputs": [
    {
     "data": {
      "image/png": "[encoded data removed]",
      "text/plain": [
       "<Figure size 432x288 with 1 Axes>"
      ]
     },
     "metadata": {
      "needs_background": "light"
     },
     "output_type": "display_data"
    }
   ],
   "source": [
    "# ### Courbe ROC en test\n",
    "# Construire la courbe ROC et calculer la valeur de l'AUC sur l'échantillon test. On utilise \"scikit-learn\" pour aller au plus court.\n",
    "\n",
    "# In[61]:\n",
    "#pouvoir faire apparaître le graphique dans le notebook \n",
    "%matplotlib inline \n",
    "#insérer le graphique \n",
    "import matplotlib.pyplot as plt \n",
    "\n",
    "#importer la librairie\n",
    "import sklearn.metrics as metrics\n",
    "\n",
    "#colonnes pour les courbes ROC\n",
    "fprSm, tprSm, _ = metrics.roc_curve(yTest,predProbaSm,pos_label=1)\n",
    "\n",
    "#graphique\n",
    "#construire la diagonale\n",
    "plt.plot(numpy.arange(0,1.1,0.1),numpy.arange(0,1.1,0.1),'b')\n",
    "\n",
    "#rajouter notre diagramme\n",
    "plt.plot(fprSm,tprSm,\"g\")\n",
    "\n",
    "#titre\n",
    "plt.title(\"Courbe ROC\")\n",
    "\n",
    "#faire apparaître\n",
    "plt.show()"
   ]
  },
  {
   "cell_type": "code",
   "execution_count": 273,
   "id": "a91a1215",
   "metadata": {},
   "outputs": [
    {
     "name": "stdout",
     "output_type": "stream",
     "text": [
      "AUC : 0.9976\n"
     ]
    }
   ],
   "source": [
    "# In[62]:\n",
    "\n",
    "#valeur de l'AUC\n",
    "aucSm = metrics.roc_auc_score(yTest,predProbaSm)\n",
    "print(\"AUC : %.4f\" % (aucSm))"
   ]
  },
  {
   "cell_type": "code",
   "execution_count": null,
   "id": "53132b5f-c6a2-4e87-a5a8-6605a72b8868",
   "metadata": {},
   "outputs": [],
   "source": []
  },
  {
   "cell_type": "markdown",
   "id": "e0f34648-7479-4bcb-b951-6cc6e9e600d8",
   "metadata": {},
   "source": [
    "### Régression logistique avec Scikit learn (approche machine learning)\n",
    "___"
   ]
  },
  {
   "cell_type": "code",
   "execution_count": 274,
   "id": "ba0aba43",
   "metadata": {},
   "outputs": [
    {
     "name": "stdout",
     "output_type": "stream",
     "text": [
      "1.1.1\n"
     ]
    }
   ],
   "source": [
    "#importation \n",
    "import sklearn \n",
    "#version \n",
    "print(sklearn.__version__)"
   ]
  },
  {
   "cell_type": "code",
   "execution_count": 275,
   "id": "5157d68b",
   "metadata": {},
   "outputs": [
    {
     "data": {
      "text/html": [
       "<style>#sk-container-id-4 {color: black;background-color: white;}#sk-container-id-4 pre{padding: 0;}#sk-container-id-4 div.sk-toggleable {background-color: white;}#sk-container-id-4 label.sk-toggleable__label {cursor: pointer;display: block;width: 100%;margin-bottom: 0;padding: 0.3em;box-sizing: border-box;text-align: center;}#sk-container-id-4 label.sk-toggleable__label-arrow:before {content: \"▸\";float: left;margin-right: 0.25em;color: #696969;}#sk-container-id-4 label.sk-toggleable__label-arrow:hover:before {color: black;}#sk-container-id-4 div.sk-estimator:hover label.sk-toggleable__label-arrow:before {color: black;}#sk-container-id-4 div.sk-toggleable__content {max-height: 0;max-width: 0;overflow: hidden;text-align: left;background-color: #f0f8ff;}#sk-container-id-4 div.sk-toggleable__content pre {margin: 0.2em;color: black;border-radius: 0.25em;background-color: #f0f8ff;}#sk-container-id-4 input.sk-toggleable__control:checked~div.sk-toggleable__content {max-height: 200px;max-width: 100%;overflow: auto;}#sk-container-id-4 input.sk-toggleable__control:checked~label.sk-toggleable__label-arrow:before {content: \"▾\";}#sk-container-id-4 div.sk-estimator input.sk-toggleable__control:checked~label.sk-toggleable__label {background-color: #d4ebff;}#sk-container-id-4 div.sk-label input.sk-toggleable__control:checked~label.sk-toggleable__label {background-color: #d4ebff;}#sk-container-id-4 input.sk-hidden--visually {border: 0;clip: rect(1px 1px 1px 1px);clip: rect(1px, 1px, 1px, 1px);height: 1px;margin: -1px;overflow: hidden;padding: 0;position: absolute;width: 1px;}#sk-container-id-4 div.sk-estimator {font-family: monospace;background-color: #f0f8ff;border: 1px dotted black;border-radius: 0.25em;box-sizing: border-box;margin-bottom: 0.5em;}#sk-container-id-4 div.sk-estimator:hover {background-color: #d4ebff;}#sk-container-id-4 div.sk-parallel-item::after {content: \"\";width: 100%;border-bottom: 1px solid gray;flex-grow: 1;}#sk-container-id-4 div.sk-label:hover label.sk-toggleable__label {background-color: #d4ebff;}#sk-container-id-4 div.sk-serial::before {content: \"\";position: absolute;border-left: 1px solid gray;box-sizing: border-box;top: 0;bottom: 0;left: 50%;z-index: 0;}#sk-container-id-4 div.sk-serial {display: flex;flex-direction: column;align-items: center;background-color: white;padding-right: 0.2em;padding-left: 0.2em;position: relative;}#sk-container-id-4 div.sk-item {position: relative;z-index: 1;}#sk-container-id-4 div.sk-parallel {display: flex;align-items: stretch;justify-content: center;background-color: white;position: relative;}#sk-container-id-4 div.sk-item::before, #sk-container-id-4 div.sk-parallel-item::before {content: \"\";position: absolute;border-left: 1px solid gray;box-sizing: border-box;top: 0;bottom: 0;left: 50%;z-index: -1;}#sk-container-id-4 div.sk-parallel-item {display: flex;flex-direction: column;z-index: 1;position: relative;background-color: white;}#sk-container-id-4 div.sk-parallel-item:first-child::after {align-self: flex-end;width: 50%;}#sk-container-id-4 div.sk-parallel-item:last-child::after {align-self: flex-start;width: 50%;}#sk-container-id-4 div.sk-parallel-item:only-child::after {width: 0;}#sk-container-id-4 div.sk-dashed-wrapped {border: 1px dashed gray;margin: 0 0.4em 0.5em 0.4em;box-sizing: border-box;padding-bottom: 0.4em;background-color: white;}#sk-container-id-4 div.sk-label label {font-family: monospace;font-weight: bold;display: inline-block;line-height: 1.2em;}#sk-container-id-4 div.sk-label-container {text-align: center;}#sk-container-id-4 div.sk-container {/* jupyter's `normalize.less` sets `[hidden] { display: none; }` but bootstrap.min.css set `[hidden] { display: none !important; }` so we also need the `!important` here to be able to override the default hidden behavior on the sphinx rendered scikit-learn.org. See: https://github.com/scikit-learn/scikit-learn/issues/21755 */display: inline-block !important;position: relative;}#sk-container-id-4 div.sk-text-repr-fallback {display: none;}</style><div id=\"sk-container-id-4\" class=\"sk-top-container\"><div class=\"sk-text-repr-fallback\"><pre>LogisticRegression(penalty=&#x27;none&#x27;)</pre><b>In a Jupyter environment, please rerun this cell to show the HTML representation or trust the notebook. <br />On GitHub, the HTML representation is unable to render, please try loading this page with nbviewer.org.</b></div><div class=\"sk-container\" hidden><div class=\"sk-item\"><div class=\"sk-estimator sk-toggleable\"><input class=\"sk-toggleable__control sk-hidden--visually\" id=\"sk-estimator-id-4\" type=\"checkbox\" checked><label for=\"sk-estimator-id-4\" class=\"sk-toggleable__label sk-toggleable__label-arrow\">LogisticRegression</label><div class=\"sk-toggleable__content\"><pre>LogisticRegression(penalty=&#x27;none&#x27;)</pre></div></div></div></div></div>"
      ],
      "text/plain": [
       "LogisticRegression(penalty='none')"
      ]
     },
     "execution_count": 275,
     "metadata": {},
     "output_type": "execute_result"
    }
   ],
   "source": [
    "#importation de la classe de calcul \n",
    "from sklearn.linear_model import LogisticRegression \n",
    "#instanciation \n",
    "lrSk = LogisticRegression(penalty='none') \n",
    "#lancement des calculs \n",
    "#pas nécessaire de rajouter la constante \n",
    "lrSk.fit(xTrain,yTrain)"
   ]
  },
  {
   "cell_type": "code",
   "execution_count": 276,
   "id": "7a833cbf",
   "metadata": {},
   "outputs": [
    {
     "name": "stdout",
     "output_type": "stream",
     "text": [
      "          var      coef\n",
      "0       clump  0.509873\n",
      "1   ucellsize -0.055404\n",
      "2  ucellshape  0.325869\n",
      "3  mgadhesion  0.232236\n",
      "4      sepics  0.026766\n",
      "5     bnuclei  0.465961\n",
      "6  bchromatin  0.383524\n",
      "7    normnucl  0.200543\n",
      "8     mitoses  0.541757\n"
     ]
    }
   ],
   "source": [
    "#affichage des coefficients \n",
    "print(pandas.DataFrame({\"var\":xTrain.columns,\"coef\":lrSk.coef_[0]}))"
   ]
  },
  {
   "cell_type": "code",
   "execution_count": 277,
   "id": "3302cf97",
   "metadata": {},
   "outputs": [
    {
     "name": "stdout",
     "output_type": "stream",
     "text": [
      "[-9.41353441]\n"
     ]
    }
   ],
   "source": [
    "#la constante \n",
    "print(lrSk.intercept_)"
   ]
  },
  {
   "cell_type": "code",
   "execution_count": 278,
   "id": "c24391b4",
   "metadata": {},
   "outputs": [
    {
     "name": "stdout",
     "output_type": "stream",
     "text": [
      "DescribeResult(nobs=600, minmax=(array([-1.21231083, -0.69981534, -0.74159116, -0.63550921, -1.01117585,\n",
      "       -0.71598597, -1.0035247 , -0.61134511, -0.34120119]), array([1.98733652, 2.20710992, 2.23358881, 2.53323478, 3.10053318,\n",
      "       1.78648925, 2.69547421, 2.33095756, 4.81982525])), mean=array([-3.99680289e-17,  1.19904087e-16,  4.16333634e-17, -7.99360578e-17,\n",
      "       -5.18104078e-17, -8.88178420e-17, -6.43929354e-17,  9.62193288e-18,\n",
      "        1.77635684e-17]), variance=array([1., 1., 1., 1., 1., 1., 1., 1., 1.]), skewness=array([0.58906473, 1.2113343 , 1.14910617, 1.52807909, 1.70848743,\n",
      "       0.9816285 , 1.08316422, 1.4203911 , 3.55201146]), kurtosis=array([-6.16985686e-01,  6.09656988e-03, -7.08874925e-02,  1.01272012e+00,\n",
      "        2.16819811e+00, -7.72526397e-01,  1.26366791e-01,  4.64622762e-01,\n",
      "        1.24354735e+01]))\n"
     ]
    }
   ],
   "source": [
    "#importation de l'outil \n",
    "from sklearn import preprocessing \n",
    "#instanciation \n",
    "stds = preprocessing.StandardScaler() \n",
    "#transformation \n",
    "ZTrain = stds.fit_transform(xTrain) \n",
    "print(scipy.stats.describe(ZTrain,axis=0,ddof=0))"
   ]
  },
  {
   "cell_type": "code",
   "execution_count": 279,
   "id": "4e828d71",
   "metadata": {},
   "outputs": [
    {
     "name": "stdout",
     "output_type": "stream",
     "text": [
      "          var      coef\n",
      "0       clump  1.434265\n",
      "1   ucellsize -0.171495\n",
      "2  ucellshape  0.985702\n",
      "3  mgadhesion  0.659614\n",
      "4      sepics  0.058566\n",
      "5     bnuclei  1.675860\n",
      "6  bchromatin  0.933158\n",
      "7    normnucl  0.613445\n",
      "8     mitoses  0.944667\n"
     ]
    }
   ],
   "source": [
    "#instanciation \n",
    "lrSkStd = LogisticRegression(penalty='none') \n",
    "#lancement des calculs -- pas nécessaire de rajouter la constante \n",
    "lrSkStd.fit(ZTrain,yTrain) \n",
    "#affichage des coefficients \n",
    "print(pandas.DataFrame({\"var\":xTrain.columns,\"coef\":lrSkStd.coef_[0]}))"
   ]
  },
  {
   "cell_type": "code",
   "execution_count": 280,
   "id": "d740c511",
   "metadata": {},
   "outputs": [
    {
     "name": "stdout",
     "output_type": "stream",
     "text": [
      "          var      coef\n",
      "0       clump  0.509905\n",
      "1   ucellsize -0.055392\n",
      "2  ucellshape  0.325849\n",
      "3  mgadhesion  0.232238\n",
      "4      sepics  0.026756\n",
      "5     bnuclei  0.465978\n",
      "6  bchromatin  0.383528\n",
      "7    normnucl  0.200549\n",
      "8     mitoses  0.541717\n"
     ]
    }
   ],
   "source": [
    "#correction des coefficients - dé-standardisation \n",
    "#par les écarts-type utilisés lors de la standardisation des variables \n",
    "coefUnstd = lrSkStd.coef_[0] / stds.scale_ \n",
    "#affichage des coefficients corrigés \n",
    "print(pandas.DataFrame({\"var\":xTrain.columns,\"coef\":coefUnstd}))"
   ]
  },
  {
   "cell_type": "code",
   "execution_count": 281,
   "id": "74fdb383",
   "metadata": {},
   "outputs": [
    {
     "name": "stdout",
     "output_type": "stream",
     "text": [
      "[-9.41371545]\n"
     ]
    }
   ],
   "source": [
    "#pour la constante, l'opération est plus complexe \n",
    "interceptUnStd = lrSkStd.intercept_ + numpy.sum(lrSkStd.coef_[0]*(-stds.mean_/stds.scale_)) \n",
    "print(interceptUnStd)"
   ]
  },
  {
   "cell_type": "code",
   "execution_count": 282,
   "id": "604be186",
   "metadata": {},
   "outputs": [
    {
     "name": "stdout",
     "output_type": "stream",
     "text": [
      "[[3.57268749e-04 9.99642731e-01]\n",
      " [9.89769835e-01 1.02301655e-02]\n",
      " [9.98294693e-01 1.70530689e-03]\n",
      " [9.97163655e-01 2.83634489e-03]\n",
      " [9.92175104e-01 7.82489556e-03]]\n"
     ]
    }
   ],
   "source": [
    "#probabilités d'affectation \n",
    "proba01 = lrSkStd.predict_proba(ZTrain) \n",
    "#affichage des 5 premières valeurs \n",
    "print(proba01[:5,:])"
   ]
  },
  {
   "cell_type": "code",
   "execution_count": 283,
   "id": "22e22823",
   "metadata": {},
   "outputs": [
    {
     "name": "stdout",
     "output_type": "stream",
     "text": [
      "DescribeResult(nobs=600, minmax=(0.0011320559604835626, 0.999999858467137), mean=0.34833318595143603, variance=0.2048860052326848, skewness=0.6470627840654125, kurtosis=-1.5308025939038277)\n"
     ]
    }
   ],
   "source": [
    "#récupération de la colonne n°1 \n",
    "proba1 = proba01[:,1] \n",
    "#description stat \n",
    "print(scipy.stats.describe(proba1))"
   ]
  },
  {
   "cell_type": "code",
   "execution_count": 284,
   "id": "1ffa7cfe",
   "metadata": {},
   "outputs": [
    {
     "name": "stdout",
     "output_type": "stream",
     "text": [
      "-52.12266171709349\n"
     ]
    }
   ],
   "source": [
    "#log-vraisemblance \n",
    "log_likelihood = numpy.sum(yTrain*numpy.log(proba1)+(1.0-yTrain)*numpy.log(1.0-proba1)) \n",
    "print(log_likelihood)"
   ]
  },
  {
   "cell_type": "code",
   "execution_count": 285,
   "id": "6a30a35a",
   "metadata": {},
   "outputs": [
    {
     "name": "stdout",
     "output_type": "stream",
     "text": [
      "DescribeResult(nobs=98, minmax=(array([-1.21231083, -0.69981534, -0.74159116, -0.63550921, -1.01117585,\n",
      "       -0.71598597, -1.0035247 , -0.61134511, -0.34120119]), array([1.98733652, 2.20710992, 2.23358881, 2.53323478, 3.10053318,\n",
      "       1.78648925, 2.69547421, 2.33095756, 4.81982525])), mean=array([ 0.0174856 , -0.06701528, -0.07706683,  0.01117324,  0.01442051,\n",
      "       -0.03220305, -0.00538214, -0.00420329, -0.01936848]), variance=array([1.01414884, 0.7875761 , 0.74153281, 1.0718781 , 1.16311775,\n",
      "       1.01796193, 1.02731486, 0.97499214, 0.76550587]), skewness=array([0.60980866, 1.30884618, 1.12838688, 1.46540585, 1.67958366,\n",
      "       1.02859773, 1.16751087, 1.3967306 , 3.41762105]), kurtosis=array([-0.71183833,  0.55845245,  0.20116266,  0.69513937,  1.89260733,\n",
      "       -0.73362592,  0.41995856,  0.39619837, 12.19144896]))\n"
     ]
    }
   ],
   "source": [
    "#transformation de l'échantillon test \n",
    "ZTest = stds.transform(xTest) \n",
    "#stat. descriptives \n",
    "print(scipy.stats.describe(ZTest,axis=0,ddof=0))"
   ]
  },
  {
   "cell_type": "code",
   "execution_count": 286,
   "id": "cf207c72",
   "metadata": {},
   "outputs": [
    {
     "name": "stdout",
     "output_type": "stream",
     "text": [
      "(array([0, 1]), array([65, 33]))\n"
     ]
    }
   ],
   "source": [
    "#appliquer la prédiction \n",
    "predSk = lrSkStd.predict(ZTest) \n",
    "print(numpy.unique(predSk,return_counts=True))"
   ]
  },
  {
   "cell_type": "code",
   "execution_count": 287,
   "id": "ddfc5ebf",
   "metadata": {},
   "outputs": [
    {
     "name": "stdout",
     "output_type": "stream",
     "text": [
      "[[64  2]\n",
      " [ 1 31]]\n"
     ]
    }
   ],
   "source": [
    "import sklearn.metrics as metrics\n",
    "#matrice de confusion \n",
    "print(metrics.confusion_matrix(yTest,predSk))"
   ]
  },
  {
   "cell_type": "code",
   "execution_count": 288,
   "id": "89f23606",
   "metadata": {},
   "outputs": [
    {
     "name": "stdout",
     "output_type": "stream",
     "text": [
      "              precision    recall  f1-score   support\n",
      "\n",
      "           0       0.98      0.97      0.98        66\n",
      "           1       0.94      0.97      0.95        32\n",
      "\n",
      "    accuracy                           0.97        98\n",
      "   macro avg       0.96      0.97      0.97        98\n",
      "weighted avg       0.97      0.97      0.97        98\n",
      "\n"
     ]
    }
   ],
   "source": [
    "#rapport sur la qualité de prédiction \n",
    "print(metrics.classification_report(yTest,predSk))"
   ]
  },
  {
   "cell_type": "markdown",
   "id": "4b24bf14",
   "metadata": {},
   "source": [
    "### Régression logistique régularisée"
   ]
  },
  {
   "cell_type": "code",
   "execution_count": null,
   "id": "245cf2b9",
   "metadata": {},
   "outputs": [],
   "source": []
  },
  {
   "cell_type": "markdown",
   "id": "6a40842d",
   "metadata": {},
   "source": [
    "#### Conclusion\n",
    "---\n",
    "Les deux librairies étudiées,  « statsmodels » et « scikit-learn », sont différentes dans leur philosophie  et les fonctionnalités proposées. La première, comme son nom l’indique, est empreinte d’une forte culture statistique. La seconde a une approche plutôt « machine learning ». Mais elles se rejoignent dans les résultats."
   ]
  },
  {
   "cell_type": "code",
   "execution_count": null,
   "id": "f1cb6f04",
   "metadata": {},
   "outputs": [],
   "source": []
  },
  {
   "cell_type": "markdown",
   "id": "eac63a8e-0490-4b3a-b902-e3782db24245",
   "metadata": {},
   "source": [
    "### Régression logistique régularisée\n",
    "---"
   ]
  },
  {
   "cell_type": "code",
   "execution_count": 291,
   "id": "25dc13f0",
   "metadata": {},
   "outputs": [
    {
     "name": "stdout",
     "output_type": "stream",
     "text": [
      "                beta\n",
      "clump       1.265670\n",
      "ucellsize   0.101389\n",
      "ucellshape  0.791617\n",
      "mgadhesion  0.569762\n",
      "sepics      0.137107\n",
      "bnuclei     1.508784\n",
      "bchromatin  0.829517\n",
      "normnucl    0.558114\n",
      "mitoses     0.741782\n"
     ]
    }
   ],
   "source": [
    "#coef. standardisés de LogisticRegression\n",
    "regStd = LogisticRegression()\n",
    "regStd.fit(ZTrain,yTrain)\n",
    "\n",
    "#coefficients\n",
    "beta = pandas.DataFrame(regStd.coef_[0],index=X.columns,columns=['beta'])\n",
    "print(beta)"
   ]
  },
  {
   "cell_type": "code",
   "execution_count": 289,
   "id": "d5af75f1-ab32-4c88-bd66-7353848453ef",
   "metadata": {},
   "outputs": [
    {
     "name": "stdout",
     "output_type": "stream",
     "text": [
      "               ridge\n",
      "clump       0.681075\n",
      "ucellsize   0.415511\n",
      "ucellshape  0.511493\n",
      "mgadhesion  0.367608\n",
      "sepics      0.298526\n",
      "bnuclei     0.834232\n",
      "bchromatin  0.512929\n",
      "normnucl    0.404884\n",
      "mitoses     0.304306\n"
     ]
    }
   ],
   "source": [
    "#régression ridge, fortement régularisé\n",
    "regRidge = LogisticRegression(penalty='l2',C=0.05)\n",
    "regRidge.fit(ZTrain,yTrain)\n",
    "\n",
    "#coefs. Ridge\n",
    "print(pandas.DataFrame(regRidge.coef_[0],index=X.columns,columns=(['ridge'])))"
   ]
  },
  {
   "cell_type": "code",
   "execution_count": 292,
   "id": "0ee47369",
   "metadata": {},
   "outputs": [
    {
     "data": {
      "text/plain": [
       "array([-0.97235764])"
      ]
     },
     "execution_count": 292,
     "metadata": {},
     "output_type": "execute_result"
    }
   ],
   "source": [
    "#constante\n",
    "regRidge.intercept_"
   ]
  },
  {
   "cell_type": "code",
   "execution_count": 293,
   "id": "88ce9769",
   "metadata": {},
   "outputs": [
    {
     "name": "stdout",
     "output_type": "stream",
     "text": [
      "                beta\n",
      "clump       1.265670\n",
      "ucellsize   0.101389\n",
      "ucellshape  0.791617\n",
      "mgadhesion  0.569762\n",
      "sepics      0.137107\n",
      "bnuclei     1.508784\n",
      "bchromatin  0.829517\n",
      "normnucl    0.558114\n",
      "mitoses     0.741782\n"
     ]
    }
   ],
   "source": [
    "#à comparer avec param. par défaut\n",
    "#qui étaient penalty='l2' et 'C = 1.0'\n",
    "print(beta)"
   ]
  },
  {
   "cell_type": "code",
   "execution_count": 294,
   "id": "9f0dbc51",
   "metadata": {},
   "outputs": [
    {
     "data": {
      "text/plain": [
       "array([-1.111891])"
      ]
     },
     "execution_count": 294,
     "metadata": {},
     "output_type": "execute_result"
    }
   ],
   "source": [
    "#constante\n",
    "regStd.intercept_"
   ]
  },
  {
   "cell_type": "code",
   "execution_count": 295,
   "id": "cbedf01a",
   "metadata": {},
   "outputs": [
    {
     "name": "stdout",
     "output_type": "stream",
     "text": [
      "               lasso\n",
      "clump       0.071201\n",
      "ucellsize   0.332722\n",
      "ucellshape  0.318667\n",
      "mgadhesion  0.000000\n",
      "sepics      0.000000\n",
      "bnuclei     0.524587\n",
      "bchromatin  0.027269\n",
      "normnucl    0.000000\n",
      "mitoses     0.000000\n"
     ]
    }
   ],
   "source": [
    "#Lasso - nous oblige à changer d'algo d'optimisation\n",
    "regLasso = LogisticRegression(penalty='l1',C=0.01,solver='saga')\n",
    "regLasso.fit(ZTrain,yTrain)\n",
    "\n",
    "#coefs. Lasso -- on bobserve l'effet \"sélection de variables\"\n",
    "print(pandas.DataFrame(regLasso.coef_[0],index=X.columns,columns=(['lasso'])))"
   ]
  },
  {
   "cell_type": "code",
   "execution_count": 296,
   "id": "9e0f05fb",
   "metadata": {},
   "outputs": [
    {
     "data": {
      "text/plain": [
       "array([-0.7358003])"
      ]
     },
     "execution_count": 296,
     "metadata": {},
     "output_type": "execute_result"
    }
   ],
   "source": [
    "#constante\n",
    "regLasso.intercept_"
   ]
  },
  {
   "cell_type": "code",
   "execution_count": 297,
   "id": "c4b421b5",
   "metadata": {},
   "outputs": [
    {
     "name": "stdout",
     "output_type": "stream",
     "text": [
      "             elastic\n",
      "clump       0.280421\n",
      "ucellsize   0.279475\n",
      "ucellshape  0.295232\n",
      "mgadhesion  0.111045\n",
      "sepics      0.098714\n",
      "bnuclei     0.454536\n",
      "bchromatin  0.223819\n",
      "normnucl    0.170203\n",
      "mitoses     0.000000\n"
     ]
    }
   ],
   "source": [
    "#elasticnet -- choix de l'algo contraint également\n",
    "#nouveau param. avec l1_ratio\n",
    "regElastic = LogisticRegression(penalty='elasticnet',l1_ratio=0.5,C=0.01,solver='saga')\n",
    "regElastic.fit(ZTrain,yTrain)\n",
    "\n",
    "#coefs. elasticnet -- on observe l'effet \"sélection de variables\"\n",
    "print(pandas.DataFrame(regElastic.coef_[0],index=X.columns,columns=(['elastic'])))"
   ]
  },
  {
   "cell_type": "code",
   "execution_count": 298,
   "id": "753e22b6",
   "metadata": {},
   "outputs": [
    {
     "data": {
      "text/plain": [
       "array([-0.80671471])"
      ]
     },
     "execution_count": 298,
     "metadata": {},
     "output_type": "execute_result"
    }
   ],
   "source": [
    "#constante\n",
    "regElastic.intercept_"
   ]
  },
  {
   "cell_type": "code",
   "execution_count": 299,
   "id": "05c73e4d",
   "metadata": {},
   "outputs": [
    {
     "data": {
      "text/html": [
       "<style>#sk-container-id-5 {color: black;background-color: white;}#sk-container-id-5 pre{padding: 0;}#sk-container-id-5 div.sk-toggleable {background-color: white;}#sk-container-id-5 label.sk-toggleable__label {cursor: pointer;display: block;width: 100%;margin-bottom: 0;padding: 0.3em;box-sizing: border-box;text-align: center;}#sk-container-id-5 label.sk-toggleable__label-arrow:before {content: \"▸\";float: left;margin-right: 0.25em;color: #696969;}#sk-container-id-5 label.sk-toggleable__label-arrow:hover:before {color: black;}#sk-container-id-5 div.sk-estimator:hover label.sk-toggleable__label-arrow:before {color: black;}#sk-container-id-5 div.sk-toggleable__content {max-height: 0;max-width: 0;overflow: hidden;text-align: left;background-color: #f0f8ff;}#sk-container-id-5 div.sk-toggleable__content pre {margin: 0.2em;color: black;border-radius: 0.25em;background-color: #f0f8ff;}#sk-container-id-5 input.sk-toggleable__control:checked~div.sk-toggleable__content {max-height: 200px;max-width: 100%;overflow: auto;}#sk-container-id-5 input.sk-toggleable__control:checked~label.sk-toggleable__label-arrow:before {content: \"▾\";}#sk-container-id-5 div.sk-estimator input.sk-toggleable__control:checked~label.sk-toggleable__label {background-color: #d4ebff;}#sk-container-id-5 div.sk-label input.sk-toggleable__control:checked~label.sk-toggleable__label {background-color: #d4ebff;}#sk-container-id-5 input.sk-hidden--visually {border: 0;clip: rect(1px 1px 1px 1px);clip: rect(1px, 1px, 1px, 1px);height: 1px;margin: -1px;overflow: hidden;padding: 0;position: absolute;width: 1px;}#sk-container-id-5 div.sk-estimator {font-family: monospace;background-color: #f0f8ff;border: 1px dotted black;border-radius: 0.25em;box-sizing: border-box;margin-bottom: 0.5em;}#sk-container-id-5 div.sk-estimator:hover {background-color: #d4ebff;}#sk-container-id-5 div.sk-parallel-item::after {content: \"\";width: 100%;border-bottom: 1px solid gray;flex-grow: 1;}#sk-container-id-5 div.sk-label:hover label.sk-toggleable__label {background-color: #d4ebff;}#sk-container-id-5 div.sk-serial::before {content: \"\";position: absolute;border-left: 1px solid gray;box-sizing: border-box;top: 0;bottom: 0;left: 50%;z-index: 0;}#sk-container-id-5 div.sk-serial {display: flex;flex-direction: column;align-items: center;background-color: white;padding-right: 0.2em;padding-left: 0.2em;position: relative;}#sk-container-id-5 div.sk-item {position: relative;z-index: 1;}#sk-container-id-5 div.sk-parallel {display: flex;align-items: stretch;justify-content: center;background-color: white;position: relative;}#sk-container-id-5 div.sk-item::before, #sk-container-id-5 div.sk-parallel-item::before {content: \"\";position: absolute;border-left: 1px solid gray;box-sizing: border-box;top: 0;bottom: 0;left: 50%;z-index: -1;}#sk-container-id-5 div.sk-parallel-item {display: flex;flex-direction: column;z-index: 1;position: relative;background-color: white;}#sk-container-id-5 div.sk-parallel-item:first-child::after {align-self: flex-end;width: 50%;}#sk-container-id-5 div.sk-parallel-item:last-child::after {align-self: flex-start;width: 50%;}#sk-container-id-5 div.sk-parallel-item:only-child::after {width: 0;}#sk-container-id-5 div.sk-dashed-wrapped {border: 1px dashed gray;margin: 0 0.4em 0.5em 0.4em;box-sizing: border-box;padding-bottom: 0.4em;background-color: white;}#sk-container-id-5 div.sk-label label {font-family: monospace;font-weight: bold;display: inline-block;line-height: 1.2em;}#sk-container-id-5 div.sk-label-container {text-align: center;}#sk-container-id-5 div.sk-container {/* jupyter's `normalize.less` sets `[hidden] { display: none; }` but bootstrap.min.css set `[hidden] { display: none !important; }` so we also need the `!important` here to be able to override the default hidden behavior on the sphinx rendered scikit-learn.org. See: https://github.com/scikit-learn/scikit-learn/issues/21755 */display: inline-block !important;position: relative;}#sk-container-id-5 div.sk-text-repr-fallback {display: none;}</style><div id=\"sk-container-id-5\" class=\"sk-top-container\"><div class=\"sk-text-repr-fallback\"><pre>GridSearchCV(cv=10, estimator=LogisticRegression(C=0.05),\n",
       "             param_grid=[{&#x27;C&#x27;: [0.001, 0.01, 0.05, 0.1, 0.5, 1.0, 10.0,\n",
       "                                100.0]}],\n",
       "             scoring=&#x27;accuracy&#x27;)</pre><b>In a Jupyter environment, please rerun this cell to show the HTML representation or trust the notebook. <br />On GitHub, the HTML representation is unable to render, please try loading this page with nbviewer.org.</b></div><div class=\"sk-container\" hidden><div class=\"sk-item sk-dashed-wrapped\"><div class=\"sk-label-container\"><div class=\"sk-label sk-toggleable\"><input class=\"sk-toggleable__control sk-hidden--visually\" id=\"sk-estimator-id-5\" type=\"checkbox\" ><label for=\"sk-estimator-id-5\" class=\"sk-toggleable__label sk-toggleable__label-arrow\">GridSearchCV</label><div class=\"sk-toggleable__content\"><pre>GridSearchCV(cv=10, estimator=LogisticRegression(C=0.05),\n",
       "             param_grid=[{&#x27;C&#x27;: [0.001, 0.01, 0.05, 0.1, 0.5, 1.0, 10.0,\n",
       "                                100.0]}],\n",
       "             scoring=&#x27;accuracy&#x27;)</pre></div></div></div><div class=\"sk-parallel\"><div class=\"sk-parallel-item\"><div class=\"sk-item\"><div class=\"sk-label-container\"><div class=\"sk-label sk-toggleable\"><input class=\"sk-toggleable__control sk-hidden--visually\" id=\"sk-estimator-id-6\" type=\"checkbox\" ><label for=\"sk-estimator-id-6\" class=\"sk-toggleable__label sk-toggleable__label-arrow\">estimator: LogisticRegression</label><div class=\"sk-toggleable__content\"><pre>LogisticRegression(C=0.05)</pre></div></div></div><div class=\"sk-serial\"><div class=\"sk-item\"><div class=\"sk-estimator sk-toggleable\"><input class=\"sk-toggleable__control sk-hidden--visually\" id=\"sk-estimator-id-7\" type=\"checkbox\" ><label for=\"sk-estimator-id-7\" class=\"sk-toggleable__label sk-toggleable__label-arrow\">LogisticRegression</label><div class=\"sk-toggleable__content\"><pre>LogisticRegression(C=0.05)</pre></div></div></div></div></div></div></div></div></div></div>"
      ],
      "text/plain": [
       "GridSearchCV(cv=10, estimator=LogisticRegression(C=0.05),\n",
       "             param_grid=[{'C': [0.001, 0.01, 0.05, 0.1, 0.5, 1.0, 10.0,\n",
       "                                100.0]}],\n",
       "             scoring='accuracy')"
      ]
     },
     "execution_count": 299,
     "metadata": {},
     "output_type": "execute_result"
    }
   ],
   "source": [
    "#grille de recherche, ex. pour Ridge\n",
    "#jouer sur le coefficient de régularisation\n",
    "parametres = [{'C':[0.001,0.01,0.05,0.1,0.5,1.0,10.0,100.0]}]\n",
    "\n",
    "#évaluation en validation croisée\n",
    "#avec le critère accuracy\n",
    "from sklearn.model_selection import GridSearchCV\n",
    "grid = GridSearchCV(estimator=regRidge,param_grid=parametres,scoring='accuracy',cv=10)\n",
    "grid.fit(ZTrain,yTrain)"
   ]
  },
  {
   "cell_type": "code",
   "execution_count": 300,
   "id": "48772f31",
   "metadata": {},
   "outputs": [
    {
     "name": "stdout",
     "output_type": "stream",
     "text": [
      "         params  mean_test_score\n",
      "0  {'C': 0.001}         0.888333\n",
      "1   {'C': 0.01}         0.955000\n",
      "2   {'C': 0.05}         0.961667\n",
      "3    {'C': 0.1}         0.966667\n",
      "4    {'C': 0.5}         0.965000\n",
      "5    {'C': 1.0}         0.965000\n",
      "6   {'C': 10.0}         0.963333\n",
      "7  {'C': 100.0}         0.963333\n"
     ]
    }
   ],
   "source": [
    "#affichage\n",
    "print(pandas.DataFrame.from_dict(grid.cv_results_).loc[:,['params','mean_test_score']])"
   ]
  },
  {
   "cell_type": "code",
   "execution_count": null,
   "id": "afe5f558",
   "metadata": {},
   "outputs": [],
   "source": []
  }
 ],
 "metadata": {
  "kernelspec": {
   "display_name": "Python 3 (ipykernel)",
   "language": "python",
   "name": "python3"
  },
  "language_info": {
   "codemirror_mode": {
    "name": "ipython",
    "version": 3
   },
   "file_extension": ".py",
   "mimetype": "text/x-python",
   "name": "python",
   "nbconvert_exporter": "python",
   "pygments_lexer": "ipython3",
   "version": "3.9.7"
  }
 },
 "nbformat": 4,
 "nbformat_minor": 5
}
